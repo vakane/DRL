{
 "cells": [
  {
   "cell_type": "code",
   "execution_count": 1,
   "metadata": {},
   "outputs": [],
   "source": [
    "import base64\n",
    "import imageio\n",
    "import IPython\n",
    "import matplotlib\n",
    "import matplotlib.pyplot as plt\n",
    "import numpy as np\n",
    "import PIL.Image\n",
    "import pyvirtualdisplay\n",
    "\n",
    "import tensorflow as tf\n",
    "\n",
    "from tf_agents.agents.dqn import dqn_agent\n",
    "from tf_agents.drivers import dynamic_step_driver\n",
    "from tf_agents.environments import suite_gym\n",
    "from tf_agents.environments import tf_py_environment\n",
    "from tf_agents.eval import metric_utils\n",
    "from tf_agents.metrics import tf_metrics\n",
    "from tf_agents.networks import q_network\n",
    "from tf_agents.policies import random_tf_policy\n",
    "from tf_agents.replay_buffers import tf_uniform_replay_buffer\n",
    "from tf_agents.trajectories import trajectory\n",
    "from tf_agents.utils import common"
   ]
  },
  {
   "cell_type": "code",
   "execution_count": 2,
   "metadata": {},
   "outputs": [],
   "source": [
    "tf.compat.v1.enable_v2_behavior()"
   ]
  },
  {
   "cell_type": "code",
   "execution_count": 3,
   "metadata": {},
   "outputs": [
    {
     "data": {
      "text/plain": [
       "'2.2.0-rc3'"
      ]
     },
     "execution_count": 3,
     "metadata": {},
     "output_type": "execute_result"
    }
   ],
   "source": [
    "tf.version.VERSION"
   ]
  },
  {
   "cell_type": "code",
   "execution_count": 4,
   "metadata": {},
   "outputs": [],
   "source": [
    "num_iterations = 20000 # @param {type:\"integer\"}\n",
    "\n",
    "initial_collect_steps = 1000  # @param {type:\"integer\"} \n",
    "collect_steps_per_iteration = 1  # @param {type:\"integer\"}\n",
    "replay_buffer_max_length = 100000  # @param {type:\"integer\"}\n",
    "\n",
    "batch_size = 64  # @param {type:\"integer\"}\n",
    "learning_rate = 1e-3  # @param {type:\"number\"}\n",
    "log_interval = 200  # @param {type:\"integer\"}\n",
    "\n",
    "num_eval_episodes = 10  # @param {type:\"integer\"}\n",
    "eval_interval = 1000  # @param {type:\"integer\"}"
   ]
  },
  {
   "cell_type": "code",
   "execution_count": 5,
   "metadata": {},
   "outputs": [],
   "source": [
    "env_name = 'CartPole-v0'\n",
    "env = suite_gym.load(env_name)"
   ]
  },
  {
   "cell_type": "code",
   "execution_count": 6,
   "metadata": {},
   "outputs": [],
   "source": [
    "train_py_env = suite_gym.load(env_name)\n",
    "eval_py_env = suite_gym.load(env_name)\n",
    "\n",
    "train_env = tf_py_environment.TFPyEnvironment(train_py_env)\n",
    "eval_env = tf_py_environment.TFPyEnvironment(eval_py_env)"
   ]
  },
  {
   "cell_type": "code",
   "execution_count": 7,
   "metadata": {},
   "outputs": [],
   "source": [
    "fc_layer_params = (64, 16)\n",
    "\n",
    "q_net = q_network.QNetwork(\n",
    "    train_env.observation_spec(),\n",
    "    train_env.action_spec(),\n",
    "    fc_layer_params=fc_layer_params,\n",
    "    activation_fn=tf.keras.activations.relu\n",
    ")"
   ]
  },
  {
   "cell_type": "code",
   "execution_count": 8,
   "metadata": {},
   "outputs": [
    {
     "name": "stdout",
     "output_type": "stream",
     "text": [
      "WARNING:tensorflow:Layer QNetwork is casting an input tensor from dtype float64 to the layer's dtype of float32, which is new behavior in TensorFlow 2.  The layer has dtype float32 because it's dtype defaults to floatx.\n",
      "\n",
      "If you intended to run this layer in float32, you can safely ignore this warning. If in doubt, this warning is likely only an issue if you are porting a TensorFlow 1.X model to TensorFlow 2.\n",
      "\n",
      "To change all layers to have dtype float64 by default, call `tf.keras.backend.set_floatx('float64')`. To change just this layer, pass dtype='float64' to the layer constructor. If you are the author of this layer, you can disable autocasting by passing autocast=False to the base Layer constructor.\n",
      "\n"
     ]
    },
    {
     "data": {
      "text/plain": [
       "(<tf.Tensor: shape=(1, 2), dtype=float32, numpy=array([[-0.14675477, -0.22215421]], dtype=float32)>,\n",
       " ())"
      ]
     },
     "execution_count": 8,
     "metadata": {},
     "output_type": "execute_result"
    }
   ],
   "source": [
    "q_net(np.random.rand(1, 4))"
   ]
  },
  {
   "cell_type": "code",
   "execution_count": 9,
   "metadata": {},
   "outputs": [],
   "source": [
    "optimizer = tf.compat.v1.train.AdamOptimizer(learning_rate=learning_rate)\n",
    "\n",
    "train_step_counter = tf.Variable(0)\n",
    "\n",
    "agent = dqn_agent.DqnAgent(\n",
    "    train_env.time_step_spec(),\n",
    "    train_env.action_spec(),\n",
    "    q_network=q_net,\n",
    "    optimizer=optimizer,\n",
    "    td_errors_loss_fn=common.element_wise_squared_loss,\n",
    "    train_step_counter=train_step_counter)\n",
    "\n",
    "agent.initialize()"
   ]
  },
  {
   "cell_type": "code",
   "execution_count": 10,
   "metadata": {},
   "outputs": [],
   "source": [
    "eval_policy = agent.policy\n",
    "collect_policy = agent.collect_policy"
   ]
  },
  {
   "cell_type": "code",
   "execution_count": 11,
   "metadata": {},
   "outputs": [],
   "source": [
    "random_policy = random_tf_policy.RandomTFPolicy(train_env.time_step_spec(),\n",
    "                                                train_env.action_spec())"
   ]
  },
  {
   "cell_type": "code",
   "execution_count": 12,
   "metadata": {},
   "outputs": [],
   "source": [
    "def compute_avg_return(environment, policy, num_episodes=10):\n",
    "    total_return = 0.0\n",
    "    for _ in range(num_episodes):\n",
    "\n",
    "        time_step = environment.reset()\n",
    "        episode_return = 0.0\n",
    "\n",
    "        while not time_step.is_last():\n",
    "            action_step = policy.action(time_step)\n",
    "            time_step = environment.step(action_step.action)\n",
    "            episode_return += time_step.reward\n",
    "        total_return += episode_return\n",
    "\n",
    "    avg_return = total_return / num_episodes\n",
    "    return avg_return.numpy()[0]"
   ]
  },
  {
   "cell_type": "code",
   "execution_count": 13,
   "metadata": {},
   "outputs": [],
   "source": [
    "replay_buffer = tf_uniform_replay_buffer.TFUniformReplayBuffer(\n",
    "    data_spec=agent.collect_data_spec,\n",
    "    batch_size=train_env.batch_size,\n",
    "    max_length=replay_buffer_max_length)"
   ]
  },
  {
   "cell_type": "code",
   "execution_count": 17,
   "metadata": {},
   "outputs": [],
   "source": [
    "def collect_step(environment, policy, buffer):\n",
    "    time_step = environment.current_time_step()\n",
    "    action_step = policy.action(time_step)\n",
    "    next_time_step = environment.step(action_step.action)\n",
    "    traj = trajectory.from_transition(time_step, action_step, next_time_step)\n",
    "\n",
    "    # Add trajectory to the replay buffer\n",
    "    buffer.add_batch(traj)\n",
    "\n",
    "def collect_data(env, policy, buffer, steps):\n",
    "    for _ in range(steps):\n",
    "        collect_step(env, policy, buffer)\n",
    "\n",
    "collect_data(train_env, random_policy, replay_buffer, steps=100)\n"
   ]
  },
  {
   "cell_type": "code",
   "execution_count": 18,
   "metadata": {},
   "outputs": [
    {
     "data": {
      "text/plain": [
       "<PrefetchDataset shapes: (Trajectory(step_type=(64, 2), observation=(64, 2, 4), action=(64, 2), policy_info=(), next_step_type=(64, 2), reward=(64, 2), discount=(64, 2)), BufferInfo(ids=(64, 2), probabilities=(64,))), types: (Trajectory(step_type=tf.int32, observation=tf.float32, action=tf.int64, policy_info=(), next_step_type=tf.int32, reward=tf.float32, discount=tf.float32), BufferInfo(ids=tf.int64, probabilities=tf.float32))>"
      ]
     },
     "execution_count": 18,
     "metadata": {},
     "output_type": "execute_result"
    }
   ],
   "source": [
    "dataset = replay_buffer.as_dataset(\n",
    "    num_parallel_calls=3, \n",
    "    sample_batch_size=batch_size, \n",
    "    num_steps=2).prefetch(3)\n",
    "\n",
    "\n",
    "dataset"
   ]
  },
  {
   "cell_type": "code",
   "execution_count": 19,
   "metadata": {},
   "outputs": [
    {
     "name": "stdout",
     "output_type": "stream",
     "text": [
      "<tensorflow.python.data.ops.iterator_ops.OwnedIterator object at 0x841cbf110>\n"
     ]
    }
   ],
   "source": [
    "iterator = iter(dataset)\n",
    "\n",
    "print(iterator)"
   ]
  },
  {
   "cell_type": "code",
   "execution_count": 20,
   "metadata": {},
   "outputs": [
    {
     "name": "stdout",
     "output_type": "stream",
     "text": [
      "step = 200: loss = 70.86248779296875\n",
      "step = 400: loss = 9.069637298583984\n",
      "step = 600: loss = 1.00336754322052\n",
      "step = 800: loss = 22.89200210571289\n",
      "step = 1000: loss = 31.2000789642334\n",
      "step = 1000: Average Return = 39.0\n",
      "step = 1200: loss = 4.1804986000061035\n",
      "step = 1400: loss = 7.696255207061768\n",
      "step = 1600: loss = 11.071977615356445\n",
      "step = 1800: loss = 5.696272850036621\n",
      "step = 2000: loss = 79.0313720703125\n",
      "step = 2000: Average Return = 65.5999984741211\n",
      "step = 2200: loss = 9.352849960327148\n",
      "step = 2400: loss = 11.26420783996582\n",
      "step = 2600: loss = 14.27175521850586\n",
      "step = 2800: loss = 92.55056762695312\n",
      "step = 3000: loss = 177.20831298828125\n",
      "step = 3000: Average Return = 193.60000610351562\n",
      "step = 3200: loss = 49.32898712158203\n",
      "step = 3400: loss = 39.91516876220703\n",
      "step = 3600: loss = 310.4771728515625\n",
      "step = 3800: loss = 350.13238525390625\n",
      "step = 4000: loss = 1343.58447265625\n",
      "step = 4000: Average Return = 199.60000610351562\n",
      "step = 4200: loss = 553.0899658203125\n",
      "step = 4400: loss = 1916.341064453125\n",
      "step = 4600: loss = 200.81634521484375\n",
      "step = 4800: loss = 5378.23193359375\n",
      "step = 5000: loss = 6947.33056640625\n",
      "step = 5000: Average Return = 200.0\n",
      "step = 5200: loss = 769.4193725585938\n",
      "step = 5400: loss = 927.8877563476562\n",
      "step = 5600: loss = 546.9074096679688\n",
      "step = 5800: loss = 574.846435546875\n",
      "step = 6000: loss = 696.4086303710938\n",
      "step = 6000: Average Return = 200.0\n",
      "step = 6200: loss = 1039.843505859375\n",
      "step = 6400: loss = 1001.206787109375\n",
      "step = 6600: loss = 2112.10986328125\n",
      "step = 6800: loss = 1061.6595458984375\n",
      "step = 7000: loss = 1208.13671875\n",
      "step = 7000: Average Return = 200.0\n",
      "step = 7200: loss = 44043.13671875\n",
      "step = 7400: loss = 1437.0723876953125\n",
      "step = 7600: loss = 4144.3134765625\n",
      "step = 7800: loss = 1701.81103515625\n",
      "step = 8000: loss = 2553.208984375\n",
      "step = 8000: Average Return = 200.0\n",
      "step = 8200: loss = 3517.40185546875\n",
      "step = 8400: loss = 75230.640625\n",
      "step = 8600: loss = 3636.465087890625\n",
      "step = 8800: loss = 2338.97265625\n",
      "step = 9000: loss = 3551.51025390625\n",
      "step = 9000: Average Return = 200.0\n",
      "step = 9200: loss = 10992.212890625\n",
      "step = 9400: loss = 3532.25439453125\n",
      "step = 9600: loss = 3919.564453125\n",
      "step = 9800: loss = 2699.41796875\n",
      "step = 10000: loss = 3212.8447265625\n",
      "step = 10000: Average Return = 200.0\n",
      "step = 10200: loss = 5207.4326171875\n",
      "step = 10400: loss = 3969.63134765625\n",
      "step = 10600: loss = 4554.23291015625\n",
      "step = 10800: loss = 6080.650390625\n",
      "step = 11000: loss = 7781.7802734375\n",
      "step = 11000: Average Return = 165.89999389648438\n",
      "step = 11200: loss = 1688.737548828125\n",
      "step = 11400: loss = 6150.666015625\n",
      "step = 11600: loss = 4272.01708984375\n",
      "step = 11800: loss = 2962.818115234375\n",
      "step = 12000: loss = 5241.87548828125\n",
      "step = 12000: Average Return = 200.0\n",
      "step = 12200: loss = 6307.8857421875\n",
      "step = 12400: loss = 3270.020751953125\n",
      "step = 12600: loss = 2895.3056640625\n",
      "step = 12800: loss = 5462.4716796875\n",
      "step = 13000: loss = 10068.5498046875\n",
      "step = 13000: Average Return = 198.60000610351562\n",
      "step = 13200: loss = 3028.91552734375\n",
      "step = 13400: loss = 4868.0791015625\n",
      "step = 13600: loss = 8834.322265625\n",
      "step = 13800: loss = 7631.76806640625\n",
      "step = 14000: loss = 3149.418701171875\n",
      "step = 14000: Average Return = 200.0\n",
      "step = 14200: loss = 4418.9404296875\n",
      "step = 14400: loss = 5974.8720703125\n",
      "step = 14600: loss = 1525.974365234375\n",
      "step = 14800: loss = 8088.2939453125\n",
      "step = 15000: loss = 8299.52734375\n",
      "step = 15000: Average Return = 200.0\n",
      "step = 15200: loss = 23871.203125\n",
      "step = 15400: loss = 874715.1875\n",
      "step = 15600: loss = 13979.0849609375\n",
      "step = 15800: loss = 16250.6494140625\n",
      "step = 16000: loss = 14760.8681640625\n",
      "step = 16000: Average Return = 200.0\n",
      "step = 16200: loss = 39564.66796875\n",
      "step = 16400: loss = 11079.490234375\n",
      "step = 16600: loss = 148765.015625\n",
      "step = 16800: loss = 245926.8125\n",
      "step = 17000: loss = 504042.59375\n",
      "step = 17000: Average Return = 200.0\n",
      "step = 17200: loss = 656156.0625\n",
      "step = 17400: loss = 1468850.0\n",
      "step = 17600: loss = 48047952.0\n",
      "step = 17800: loss = 9509535.0\n",
      "step = 18000: loss = 1992749.75\n",
      "step = 18000: Average Return = 36.70000076293945\n",
      "step = 18200: loss = 4120918.0\n",
      "step = 18400: loss = 5666015.0\n",
      "step = 18600: loss = 6353258.5\n",
      "step = 18800: loss = 7550340.0\n",
      "step = 19000: loss = 30450568.0\n",
      "step = 19000: Average Return = 45.29999923706055\n",
      "step = 19200: loss = 4293793.0\n",
      "step = 19400: loss = 7366330.0\n",
      "step = 19600: loss = 4623984.0\n",
      "step = 19800: loss = 5885909.0\n",
      "step = 20000: loss = 8481258.0\n",
      "step = 20000: Average Return = 200.0\n"
     ]
    }
   ],
   "source": [
    "try:\n",
    "    %%time\n",
    "except:\n",
    "    pass\n",
    "\n",
    "# (Optional) Optimize by wrapping some of the code in a graph using TF function.\n",
    "agent.train = common.function(agent.train)\n",
    "\n",
    "# Reset the train step\n",
    "agent.train_step_counter.assign(0)\n",
    "\n",
    "# Evaluate the agent's policy once before training.\n",
    "avg_return = compute_avg_return(eval_env, agent.policy, num_eval_episodes)\n",
    "returns = [avg_return]\n",
    "\n",
    "for _ in range(num_iterations):\n",
    "\n",
    "    # Collect a few steps using collect_policy and save to the replay buffer.\n",
    "    for _ in range(collect_steps_per_iteration):\n",
    "        collect_step(train_env, agent.collect_policy, replay_buffer)\n",
    "\n",
    "    # Sample a batch of data from the buffer and update the agent's network.\n",
    "    experience, unused_info = next(iterator)\n",
    "    train_loss = agent.train(experience).loss\n",
    "\n",
    "    step = agent.train_step_counter.numpy()\n",
    "\n",
    "    if step % log_interval == 0:\n",
    "        print('step = {0}: loss = {1}'.format(step, train_loss))\n",
    "\n",
    "    if step % eval_interval == 0:\n",
    "        avg_return = compute_avg_return(eval_env, agent.policy, num_eval_episodes)\n",
    "        print('step = {0}: Average Return = {1}'.format(step, avg_return))\n",
    "        returns.append(avg_return)"
   ]
  },
  {
   "cell_type": "code",
   "execution_count": 34,
   "metadata": {},
   "outputs": [],
   "source": [
    "def embed_mp4(filename):\n",
    "    \"\"\"Embeds an mp4 file in the notebook.\"\"\"\n",
    "    video = open(filename,'rb').read()\n",
    "    b64 = base64.b64encode(video)\n",
    "    tag = '''\n",
    "    <video width=\"640\" height=\"480\" controls>\n",
    "    <source src=\"data:video/mp4;base64,{0}\" type=\"video/mp4\">\n",
    "    Your browser does not support the video tag.\n",
    "    </video>'''.format(b64.decode())\n",
    "\n",
    "    return IPython.display.HTML(tag)"
   ]
  },
  {
   "cell_type": "code",
   "execution_count": 35,
   "metadata": {},
   "outputs": [],
   "source": [
    "def create_policy_eval_video(policy, filename, num_episodes=5, fps=30):\n",
    "    filename = filename + \".mp4\"\n",
    "    with imageio.get_writer(filename, fps=fps) as video:\n",
    "        for _ in range(num_episodes):\n",
    "            time_step = eval_env.reset()\n",
    "            video.append_data(eval_py_env.render())\n",
    "            while not time_step.is_last():\n",
    "                action_step = policy.action(time_step)\n",
    "                time_step = eval_env.step(action_step.action)\n",
    "                video.append_data(eval_py_env.render())\n",
    "    return embed_mp4(filename)\n"
   ]
  },
  {
   "cell_type": "code",
   "execution_count": null,
   "metadata": {},
   "outputs": [],
   "source": [
    "create_policy_eval_video(agent.policy, \"trained-agent\")"
   ]
  },
  {
   "cell_type": "code",
   "execution_count": null,
   "metadata": {},
   "outputs": [],
   "source": []
  }
 ],
 "metadata": {
  "kernelspec": {
   "display_name": ".tf2venv",
   "language": "python",
   "name": ".tf2venv"
  },
  "language_info": {
   "codemirror_mode": {
    "name": "ipython",
    "version": 3
   },
   "file_extension": ".py",
   "mimetype": "text/x-python",
   "name": "python",
   "nbconvert_exporter": "python",
   "pygments_lexer": "ipython3",
   "version": "3.7.6"
  }
 },
 "nbformat": 4,
 "nbformat_minor": 4
}
