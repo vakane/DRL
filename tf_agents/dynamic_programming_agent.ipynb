{
 "cells": [
  {
   "cell_type": "code",
   "execution_count": 245,
   "metadata": {},
   "outputs": [],
   "source": [
    "import abc\n",
    "import tensorflow as tf\n",
    "import numpy as np\n",
    "\n",
    "from tf_agents.environments import py_environment\n",
    "from tf_agents.environments import tf_environment\n",
    "from tf_agents.environments import tf_py_environment\n",
    "from tf_agents.environments import utils\n",
    "from tf_agents.specs import array_spec\n",
    "from tf_agents.environments import wrappers\n",
    "from tf_agents.environments import suite_gym\n",
    "from tf_agents.trajectories import time_step as ts\n",
    "from tf_agents.policies import tf_policy\n",
    "\n",
    "tf.compat.v1.enable_v2_behavior()\n",
    "\n",
    "import matplotlib.pyplot as plt"
   ]
  },
  {
   "cell_type": "code",
   "execution_count": 28,
   "metadata": {},
   "outputs": [],
   "source": [
    "class CardGameEnv(py_environment.PyEnvironment):\n",
    "    '''Ace is always 1'''\n",
    "\n",
    "    def __init__(self):\n",
    "        self._action_spec = array_spec.BoundedArraySpec(\n",
    "            shape=(), dtype=np.int32, minimum=0, maximum=1, name='action')\n",
    "        self._observation_spec = array_spec.BoundedArraySpec(\n",
    "            shape=(1,), dtype=np.int32, minimum=0, maximum=30, name='observation')\n",
    "        self._state = 0\n",
    "        self._episode_ended = False\n",
    "\n",
    "    def action_spec(self):\n",
    "        return self._action_spec\n",
    "\n",
    "    def observation_spec(self):\n",
    "        return self._observation_spec\n",
    "\n",
    "    def _reset(self):\n",
    "        self._state = 0\n",
    "        self._episode_ended = False\n",
    "        return ts.restart(np.array([self._state], dtype=np.int32))\n",
    "\n",
    "    def _step(self, action):\n",
    "\n",
    "        if self._episode_ended:\n",
    "            # The last action ended the episode. Ignore the current action and start\n",
    "            # a new episode.\n",
    "            return self.reset()\n",
    "\n",
    "        # Make sure episodes don't go on forever.\n",
    "        if action == 1:\n",
    "            self._episode_ended = True\n",
    "        elif action == 0:\n",
    "            new_card = np.minimum(np.random.randint(1, 14), 10)\n",
    "            self._state += new_card\n",
    "        else:\n",
    "            raise ValueError('`action` should be 0 or 1.')\n",
    "\n",
    "        if self._episode_ended or self._state >= 21:\n",
    "            reward = self._state - 21 if self._state <= 21 else -21\n",
    "            self._episode_ended = True\n",
    "            return ts.termination(np.array([self._state], dtype=np.int32), reward)\n",
    "        else:\n",
    "            return ts.transition(\n",
    "                np.array([self._state], dtype=np.int32), reward=0.0, discount=1.0)"
   ]
  },
  {
   "cell_type": "code",
   "execution_count": 306,
   "metadata": {},
   "outputs": [],
   "source": [
    "def trans_probs(state, action):\n",
    "    if action == 1:\n",
    "        #stop\n",
    "        reward = state - 21 if state <= 21 else -21\n",
    "        return lambda x: int((state == x[0]) & (reward == x[1]))\n",
    "    elif state >= 21:\n",
    "        if action == 0:\n",
    "            return lambda x: int(x[1] == -21)\n",
    "    else:\n",
    "        #one more card\n",
    "        def prob(args):\n",
    "            new_state, reward = args\n",
    "            \n",
    "            if new_state <= state:\n",
    "                #non-decreasing\n",
    "                return 0\n",
    "            \n",
    "            if (new_state - state) > 10:\n",
    "                #max step\n",
    "                return 0\n",
    "            \n",
    "            if new_state > 21:\n",
    "                #game over\n",
    "                if reward != -21:\n",
    "                    return 0\n",
    "            \n",
    "            if new_state == 21:\n",
    "                #auto stop\n",
    "                if reward != 0:\n",
    "                    return 0\n",
    "                \n",
    "            if (new_state < 21) & (reward != 0):\n",
    "                #have not stopped yet\n",
    "                return 0\n",
    "            \n",
    "            if new_state - state < 10:\n",
    "                return 1/13\n",
    "            else:\n",
    "                return 4/13\n",
    "            \n",
    "        return prob        "
   ]
  },
  {
   "cell_type": "code",
   "execution_count": 307,
   "metadata": {},
   "outputs": [],
   "source": [
    "class DynamicProgrammingAgent():\n",
    "    \n",
    "    def __init__(self,\n",
    "                 time_step_spec,\n",
    "                 action_spec,\n",
    "                 transition_probs,\n",
    "                 rewards\n",
    "                ):\n",
    "        \n",
    "        assert type(action_spec) == tf.python.framework.tensor_spec.BoundedTensorSpec\n",
    "        \n",
    "        self._action_spec = action_spec\n",
    "        self._time_step_spec = time_step_spec\n",
    "        self._transition_probs = transition_probs\n",
    "        \n",
    "        self._rewards = rewards\n",
    "        self._states = np.arange(self._time_step_spec.observation.minimum,\n",
    "                                 self._time_step_spec.observation.maximum+1\n",
    "                                )\n",
    "        self._actions = np.arange(self._action_spec.minimum,\n",
    "                                  self._action_spec.maximum+1\n",
    "                                 )\n",
    "        \n",
    "        self._value = {state: 0 for state in self._states}\n",
    "        self._value_action = {state: {action: 0 for action in self._actions} \n",
    "                              for state in self._states}\n",
    "        \n",
    "    def _get_value(self, state, action):\n",
    "        result = 0\n",
    "        p = self._transition_probs(state, action)\n",
    "        \n",
    "        for s in self._states:\n",
    "            for r in self._rewards:\n",
    "                result += p((s, r)) * np.maximum(r + (1-action) * self._value[s], -21)\n",
    "                \n",
    "        return np.maximum(result, -21)\n",
    "        \n",
    "        \n",
    "    def value_iteration(self):\n",
    "        delta = 0\n",
    "        for state in self._states:\n",
    "            v = self._value[state]\n",
    "            \n",
    "            opt_value = -np.inf\n",
    "            \n",
    "            for action in self._actions:\n",
    "                new_value = self._get_value(state, action)\n",
    "                \n",
    "                if new_value > opt_value:\n",
    "                    opt_value = new_value\n",
    "                    \n",
    "                self._value_action[state][action] = new_value\n",
    "                            \n",
    "            self._value[state] = opt_value\n",
    "            \n",
    "            delta = np.maximum(delta, abs(v - opt_value))\n",
    "        \n",
    "        return delta\n",
    "                \n",
    "    def run_iterations(self, maxit=1000, eps=1e-3):\n",
    "        delta = np.inf\n",
    "        it = 0\n",
    "        \n",
    "        delta_history = []\n",
    "        while delta > eps:\n",
    "            delta = self.value_iteration()\n",
    "            delta_history.append(delta)\n",
    "            \n",
    "            it += 1\n",
    "            if it == maxit:\n",
    "                break\n",
    "                \n",
    "        return delta_history\n",
    "    \n",
    "    def act(self, state):\n",
    "        value = -np.inf\n",
    "        opt_action = None\n",
    "        \n",
    "        for action in self._actions:\n",
    "            if self._value_action[state][action] >= value:\n",
    "                value = self._value_action[state][action]\n",
    "                opt_action = action\n",
    "                \n",
    "        return opt_action\n",
    "    \n",
    "    def policy(self):\n",
    "        return {state: (self.act(state), self._value_action[state][self.act(state)]) for state in self._states}"
   ]
  },
  {
   "cell_type": "code",
   "execution_count": 309,
   "metadata": {},
   "outputs": [],
   "source": [
    "DPA = DynamicProgrammingAgent(tf_env.time_step_spec(),\n",
    "                              tf_env.action_spec(),\n",
    "                              trans_probs,\n",
    "                              np.arange(-21, 1)\n",
    "                             )"
   ]
  },
  {
   "cell_type": "code",
   "execution_count": 310,
   "metadata": {},
   "outputs": [],
   "source": [
    "deltas = DPA.run_iterations()"
   ]
  },
  {
   "cell_type": "code",
   "execution_count": 311,
   "metadata": {},
   "outputs": [
    {
     "data": {
      "image/png": "[encoded data removed]",
      "text/plain": [
       "<Figure size 432x288 with 1 Axes>"
      ]
     },
     "metadata": {
      "needs_background": "light"
     },
     "output_type": "display_data"
    }
   ],
   "source": [
    "fig = plt.figure()\n",
    "_ = plt.plot(deltas)"
   ]
  },
  {
   "cell_type": "code",
   "execution_count": 312,
   "metadata": {},
   "outputs": [
    {
     "data": {
      "text/plain": [
       "{0: {0: -4.987603917886527, 1: -21.0},\n",
       " 1: {0: -4.772110342035287, 1: -20.0},\n",
       " 2: {0: -6.260924553312245, 1: -19.0},\n",
       " 3: {0: -6.170861996994717, 1: -18.0},\n",
       " 4: {0: -6.015801556406014, 1: -17.0},\n",
       " 5: {0: -5.800387433244653, 1: -16.0},\n",
       " 6: {0: -5.52893122557781, 1: -15.0},\n",
       " 7: {0: -5.2054361380365375, 1: -14.0},\n",
       " 8: {0: -4.833619271033928, 1: -13.0},\n",
       " 9: {0: -4.416932180245791, 1: -12.0},\n",
       " 10: {0: -3.9585798816568056, 1: -11.0},\n",
       " 11: {0: -3.4615384615384617, 1: -10.0},\n",
       " 12: {0: -9.23076923076923, 1: -9.0},\n",
       " 13: {0: -10.230769230769232, 1: -8.0},\n",
       " 14: {0: -11.307692307692308, 1: -7.0},\n",
       " 15: {0: -12.461538461538462, 1: -6.0},\n",
       " 16: {0: -13.692307692307692, 1: -5.0},\n",
       " 17: {0: -15.0, 1: -4.0},\n",
       " 18: {0: -16.384615384615383, 1: -3.0},\n",
       " 19: {0: -17.846153846153847, 1: -2.0},\n",
       " 20: {0: -19.384615384615383, 1: -1.0},\n",
       " 21: {0: -21.0, 1: 0.0},\n",
       " 22: {0: -21.0, 1: -21.0},\n",
       " 23: {0: -21.0, 1: -21.0},\n",
       " 24: {0: -21.0, 1: -21.0},\n",
       " 25: {0: -21.0, 1: -21.0},\n",
       " 26: {0: -21.0, 1: -21.0},\n",
       " 27: {0: -21.0, 1: -21.0},\n",
       " 28: {0: -21.0, 1: -21.0},\n",
       " 29: {0: -21.0, 1: -21.0},\n",
       " 30: {0: -21.0, 1: -21.0}}"
      ]
     },
     "execution_count": 312,
     "metadata": {},
     "output_type": "execute_result"
    }
   ],
   "source": [
    "DPA._value_action"
   ]
  },
  {
   "cell_type": "code",
   "execution_count": 313,
   "metadata": {},
   "outputs": [
    {
     "data": {
      "image/png": "[encoded data removed]",
      "text/plain": [
       "<Figure size 432x288 with 1 Axes>"
      ]
     },
     "metadata": {
      "needs_background": "light"
     },
     "output_type": "display_data"
    }
   ],
   "source": [
    "fig = plt.figure()\n",
    "_ = plt.plot(DPA._states, [DPA._value_action[state][0] for state in DPA._states])\n",
    "_ = plt.plot(DPA._states, [DPA._value_action[state][1] for state in DPA._states], c='r')\n",
    "_ = plt.legend(['Continue', 'Stop'])"
   ]
  },
  {
   "cell_type": "code",
   "execution_count": 363,
   "metadata": {},
   "outputs": [],
   "source": [
    "env = CardGameEnv()\n",
    "\n",
    "tf_env = tf_py_environment.TFPyEnvironment(env)\n",
    "\n",
    "def play():\n",
    "    obs = tf_env.reset()\n",
    "    \n",
    "    it = 0\n",
    "    while obs.step_type <= 1:\n",
    "        action = DPA.act(int(obs.observation.numpy()))\n",
    "        obs = tf_env.step(action)\n",
    "        \n",
    "        it += 1\n",
    "        if it == 1000:\n",
    "            raise ValueError('Something went wrong')\n",
    "        \n",
    "    return obs.reward\n",
    "\n",
    "dpa_rewards = np.array([play() for _ in range(5000)]).flatten()"
   ]
  },
  {
   "cell_type": "code",
   "execution_count": 364,
   "metadata": {},
   "outputs": [
    {
     "data": {
      "image/png": "[encoded data removed]",
      "text/plain": [
       "<Figure size 432x288 with 1 Axes>"
      ]
     },
     "metadata": {
      "needs_background": "light"
     },
     "output_type": "display_data"
    }
   ],
   "source": [
    "fig = plt.figure()\n",
    "_ = plt.hist(np.array(dpa_rewards).flatten())"
   ]
  },
  {
   "cell_type": "code",
   "execution_count": 365,
   "metadata": {},
   "outputs": [
    {
     "data": {
      "text/plain": [
       "-4.971"
      ]
     },
     "execution_count": 365,
     "metadata": {},
     "output_type": "execute_result"
    }
   ],
   "source": [
    "dpa_rewards.mean()"
   ]
  },
  {
   "cell_type": "code",
   "execution_count": null,
   "metadata": {},
   "outputs": [],
   "source": []
  }
 ],
 "metadata": {
  "kernelspec": {
   "display_name": ".tf2venv",
   "language": "python",
   "name": ".tf2venv"
  },
  "language_info": {
   "codemirror_mode": {
    "name": "ipython",
    "version": 3
   },
   "file_extension": ".py",
   "mimetype": "text/x-python",
   "name": "python",
   "nbconvert_exporter": "python",
   "pygments_lexer": "ipython3",
   "version": "3.7.6"
  }
 },
 "nbformat": 4,
 "nbformat_minor": 4
}
